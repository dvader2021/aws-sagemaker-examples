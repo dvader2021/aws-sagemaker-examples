{
 "cells": [
  {
   "cell_type": "code",
   "execution_count": 1,
   "id": "32787233",
   "metadata": {},
   "outputs": [],
   "source": [
    "import color_functions as cf"
   ]
  },
  {
   "cell_type": "code",
   "execution_count": 10,
   "id": "6fcdac96",
   "metadata": {},
   "outputs": [],
   "source": [
    "# given hex get color name\n",
    "# few choices - 'silver pink', '#bfc1c2': 'silver sand', '#cb410b': 'sinopia', '#ff3855'\n",
    "color_choice = \"#bfc1c2\""
   ]
  },
  {
   "cell_type": "code",
   "execution_count": 13,
   "id": "59e921c0",
   "metadata": {},
   "outputs": [
    {
     "name": "stdout",
     "output_type": "stream",
     "text": [
      "silver sand\n"
     ]
    }
   ],
   "source": [
    "# given color name get hex code\n",
    "color_name = cf.getColorName(color_choice)\n",
    "print(color_name)"
   ]
  },
  {
   "cell_type": "code",
   "execution_count": null,
   "id": "d468b74a",
   "metadata": {},
   "outputs": [],
   "source": []
  }
 ],
 "metadata": {
  "kernelspec": {
   "display_name": "Python [conda env:tensorflow] *",
   "language": "python",
   "name": "conda-env-tensorflow-py"
  },
  "language_info": {
   "codemirror_mode": {
    "name": "ipython",
    "version": 3
   },
   "file_extension": ".py",
   "mimetype": "text/x-python",
   "name": "python",
   "nbconvert_exporter": "python",
   "pygments_lexer": "ipython3",
   "version": "3.9.13"
  }
 },
 "nbformat": 4,
 "nbformat_minor": 5
}
